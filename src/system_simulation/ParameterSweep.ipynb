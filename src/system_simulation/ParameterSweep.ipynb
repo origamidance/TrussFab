{
 "cells": [
  {
   "cell_type": "code",
   "execution_count": 1,
   "metadata": {},
   "outputs": [],
   "source": [
    "from __future__ import print_function\n",
    "\n",
    "import subprocess\n",
    "import seaborn as sns\n",
    "import pandas as pd\n",
    "import DyMat\n",
    "\n",
    "from matplotlib import pyplot as plt\n",
    "\n",
    "from ipywidgets import interact, interactive, fixed, interact_manual, FloatSlider\n",
    "import ipywidgets as widgets\n",
    "\n",
    "import numpy as np\n",
    "import math\n",
    "from tqdm import tqdm\n",
    "import os\n",
    "\n",
    "from scipy import fftpack\n",
    "\n",
    "import tempfile"
   ]
  },
  {
   "cell_type": "code",
   "execution_count": 2,
   "metadata": {},
   "outputs": [],
   "source": [
    "sampling_rate = 50 # Hz\n",
    "simulation_time = 30"
   ]
  },
  {
   "cell_type": "code",
   "execution_count": 3,
   "metadata": {
    "scrolled": false
   },
   "outputs": [
    {
     "name": "stdout",
     "output_type": "stream",
     "text": [
      "/home/lukas/Projects/TrussFab/src/system_simulation/seesaw3_build\n"
     ]
    }
   ],
   "source": [
    "%cd seesaw3_build/"
   ]
  },
  {
   "cell_type": "code",
   "execution_count": 13,
   "metadata": {},
   "outputs": [],
   "source": [
    "overrides = \"startTime=0,stopTime={},stepSize={},outputFormat=mat,variableFilter=revLeft.*\".format(simulation_time, 1/sampling_rate)"
   ]
  },
  {
   "cell_type": "code",
   "execution_count": 12,
   "metadata": {},
   "outputs": [
    {
     "name": "stdout",
     "output_type": "stream",
     "text": [
      "CPU times: user 3.66 ms, sys: 20.5 ms, total: 24.2 ms\n",
      "Wall time: 118 ms\n"
     ]
    },
    {
     "data": {
      "text/plain": [
       "0"
      ]
     },
     "execution_count": 12,
     "metadata": {},
     "output_type": "execute_result"
    }
   ],
   "source": [
    "time subprocess.call([\"./seesaw3\", \"-override springDamperParallel1.c='10\"])"
   ]
  },
  {
   "cell_type": "code",
   "execution_count": 14,
   "metadata": {},
   "outputs": [
    {
     "data": {
      "text/plain": [
       "CompletedProcess(args='./seesaw3 -outputPath=. -override=startTime=0,stopTime=30,stepSize=0.02,outputFormat=mat,variableFilter=revLeft.* -cpu', returncode=0, stdout=b'LOG_SUCCESS       | info    | The initialization finished successfully without homotopy method.\\nLOG_SUCCESS       | info    | The simulation finished successfully.\\n', stderr=b'')"
      ]
     },
     "execution_count": 14,
     "metadata": {},
     "output_type": "execute_result"
    }
   ],
   "source": [
    "subprocess.run(\"./seesaw3 -outputPath={} -override={} -cpu\".format('.', overrides, 100), shell=True, capture_output=True)"
   ]
  },
  {
   "cell_type": "code",
   "execution_count": 15,
   "metadata": {},
   "outputs": [
    {
     "data": {
      "text/plain": [
       "CompletedProcess(args='./seesaw3 -outputPath=. -override=startTime=0,stopTime=30,stepSize=0.02,outputFormat=mat,variableFilter=revLeft.* -cpu', returncode=0, stdout=b'LOG_SUCCESS       | info    | The initialization finished successfully without homotopy method.\\nLOG_SUCCESS       | info    | The simulation finished successfully.\\n', stderr=b'')"
      ]
     },
     "execution_count": 15,
     "metadata": {},
     "output_type": "execute_result"
    }
   ],
   "source": [
    "subprocess.run(\"./seesaw3 -outputPath={} -override={} -cpu\".format('.', overrides, 100), shell=True, capture_output=True)"
   ]
  },
  {
   "cell_type": "code",
   "execution_count": 16,
   "metadata": {},
   "outputs": [],
   "source": [
    "def getFreq(c=100):\n",
    "    with tempfile.TemporaryDirectory(dir='.') as tempdir:\n",
    "        subprocess.run(\"./seesaw3 -outputPath={} -override {},springDamperParallel1.c='{}'\".format(tempdir, overrides, c), check=True, shell=True)\n",
    "        d = DyMat.DyMatFile(tempdir + '/seesaw3_res.mat')\n",
    "    return d['revLeft.phi']\n",
    "\n",
    "def getFreqPlot(c=100):\n",
    "    return pd.DataFrame(getFreq(c)).plot(title=\"C={}\".format(c))"
   ]
  },
  {
   "cell_type": "code",
   "execution_count": 17,
   "metadata": {},
   "outputs": [],
   "source": [
    "def range_metric(array: np.array):\n",
    "    return array.ptp()\n",
    "\n",
    "def puke_metric(array):\n",
    "    return np.absolute(np.gradient(array)).sum()\n",
    "\n",
    "def eigenmodes_metric(x):\n",
    "    return fftpack.fftfreq(len(x)) * sampling_rate"
   ]
  },
  {
   "cell_type": "code",
   "execution_count": 10,
   "metadata": {},
   "outputs": [
    {
     "data": {
      "text/plain": [
       "3175.0"
      ]
     },
     "execution_count": 10,
     "metadata": {},
     "output_type": "execute_result"
    }
   ],
   "source": [
    "puke_metric([-1000,10,10,20, 100, -1000])"
   ]
  },
  {
   "cell_type": "code",
   "execution_count": 18,
   "metadata": {},
   "outputs": [
    {
     "data": {
      "text/plain": [
       "<matplotlib.axes._subplots.AxesSubplot at 0x7efd36b42950>"
      ]
     },
     "execution_count": 18,
     "metadata": {},
     "output_type": "execute_result"
    },
    {
     "data": {
      "image/png": "[encoded data removed]",
      "text/plain": [
       "<Figure size 432x288 with 1 Axes>"
      ]
     },
     "metadata": {
      "needs_background": "light"
     },
     "output_type": "display_data"
    }
   ],
   "source": [
    "getFreqPlot(100)"
   ]
  },
  {
   "cell_type": "code",
   "execution_count": 19,
   "metadata": {},
   "outputs": [],
   "source": [
    "def plot_eigenmodes(c=100):\n",
    "    test = data[c]\n",
    "    \n",
    "    fig, ax = plt.subplots()\n",
    "    X = fftpack.fft(test)\n",
    "    \n",
    "    ax.stem(eigenmodes_metric(test), np.abs(X))\n",
    "    ax.set_xlabel('Frequency in Hertz [Hz]')\n",
    "    ax.set_ylabel('Frequency Domain (Spectrum) Magnitude')\n",
    "    ax.set_ylim(0, 300)\n",
    "    ax.set_xlim(.1, 2)"
   ]
  },
  {
   "cell_type": "code",
   "execution_count": 20,
   "metadata": {},
   "outputs": [
    {
     "name": "stdout",
     "output_type": "stream",
     "text": [
      "CPU times: user 28.7 ms, sys: 27 ms, total: 55.7 ms\n",
      "Wall time: 288 ms\n"
     ]
    },
    {
     "data": {
      "text/plain": [
       "array([ 0.00000000e+00, -1.66919979e-03, -6.66934132e-03, ...,\n",
       "       -2.32312527e+00, -2.32384122e+00, -2.32384122e+00])"
      ]
     },
     "execution_count": 20,
     "metadata": {},
     "output_type": "execute_result"
    }
   ],
   "source": [
    "time getFreq(10)"
   ]
  },
  {
   "cell_type": "code",
   "execution_count": 21,
   "metadata": {},
   "outputs": [
    {
     "data": {
      "application/vnd.jupyter.widget-view+json": {
       "model_id": "fb5130c474d545f18daa2ee0bd28e580",
       "version_major": 2,
       "version_minor": 0
      },
      "text/plain": [
       "interactive(children=(IntSlider(value=100, description='c', max=20000, step=100), Output()), _dom_classes=('wi…"
      ]
     },
     "metadata": {},
     "output_type": "display_data"
    },
    {
     "data": {
      "text/plain": [
       "<function __main__.getFreqPlot(c=100)>"
      ]
     },
     "execution_count": 21,
     "metadata": {},
     "output_type": "execute_result"
    }
   ],
   "source": [
    "interact(getFreqPlot, c=(0,20000,100))"
   ]
  },
  {
   "cell_type": "code",
   "execution_count": 25,
   "metadata": {},
   "outputs": [
    {
     "data": {
      "application/vnd.jupyter.widget-view+json": {
       "model_id": "18360be7cb324786b6fbfda85870d68c",
       "version_major": 2,
       "version_minor": 0
      },
      "text/plain": [
       "interactive(children=(IntSlider(value=100, description='c', max=300, min=-100), Output()), _dom_classes=('widg…"
      ]
     },
     "metadata": {},
     "output_type": "display_data"
    },
    {
     "data": {
      "text/plain": [
       "<function __main__.plot_eigenmodes(c=100)>"
      ]
     },
     "execution_count": 25,
     "metadata": {},
     "output_type": "execute_result"
    }
   ],
   "source": [
    "interact(plot_eigenmodes, data=(0,100,1), i=FloatSlider(min=1e5, max=1e7, step=1e5))"
   ]
  },
  {
   "cell_type": "code",
   "execution_count": null,
   "metadata": {},
   "outputs": [],
   "source": [
    "time getFreq(100)"
   ]
  },
  {
   "cell_type": "code",
   "execution_count": null,
   "metadata": {},
   "outputs": [],
   "source": [
    "ranges = []\n",
    "\n",
    "for c in tqdm(range(0, 20000, 100)):\n",
    "    ranges.append(range_metric(getFreq(c)))\n",
    "    \n",
    "pd.DataFrame(ranges).plot()"
   ]
  },
  {
   "cell_type": "code",
   "execution_count": 23,
   "metadata": {
    "scrolled": true
   },
   "outputs": [
    {
     "name": "stderr",
     "output_type": "stream",
     "text": [
      "200it [00:10, 19.06it/s]\n"
     ]
    }
   ],
   "source": [
    "import time\n",
    "import concurrent.futures\n",
    "\n",
    "e = concurrent.futures.ThreadPoolExecutor(4)\n",
    "s = range(0, 20000, 100)\n",
    "# calc = lambda c: range_metric(getFreq(c))\n",
    "\n",
    "data = [x for x in tqdm(e.map(getFreq, s))]"
   ]
  },
  {
   "cell_type": "code",
   "execution_count": 27,
   "metadata": {},
   "outputs": [],
   "source": [
    "puke_index_res = [puke_metric(ts) for ts in data]"
   ]
  },
  {
   "cell_type": "code",
   "execution_count": 26,
   "metadata": {},
   "outputs": [
    {
     "data": {
      "text/plain": [
       "2500"
      ]
     },
     "execution_count": 26,
     "metadata": {},
     "output_type": "execute_result"
    }
   ],
   "source": [
    "s[25]"
   ]
  },
  {
   "cell_type": "code",
   "execution_count": 28,
   "metadata": {},
   "outputs": [
    {
     "data": {
      "text/plain": [
       "<matplotlib.axes._subplots.AxesSubplot at 0x7efd361eabd0>"
      ]
     },
     "execution_count": 28,
     "metadata": {},
     "output_type": "execute_result"
    },
    {
     "data": {
      "image/png": "[encoded data removed]",
      "text/plain": [
       "<Figure size 432x288 with 1 Axes>"
      ]
     },
     "metadata": {
      "needs_background": "light"
     },
     "output_type": "display_data"
    }
   ],
   "source": [
    "pd.DataFrame(puke_index_res, index=s).plot()"
   ]
  }
 ],
 "metadata": {
  "kernelspec": {
   "display_name": "modelica",
   "language": "python",
   "name": "modelica"
  },
  "language_info": {
   "codemirror_mode": {
    "name": "ipython",
    "version": 3
   },
   "file_extension": ".py",
   "mimetype": "text/x-python",
   "name": "python",
   "nbconvert_exporter": "python",
   "pygments_lexer": "ipython3",
   "version": "3.7.5"
  }
 },
 "nbformat": 4,
 "nbformat_minor": 2
}
