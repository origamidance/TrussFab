{
 "cells": [
  {
   "cell_type": "code",
   "execution_count": 1,
   "metadata": {},
   "outputs": [],
   "source": [
    "from __future__ import print_function\n",
    "\n",
    "import subprocess\n",
    "import seaborn as sns\n",
    "import pandas as pd\n",
    "import DyMat\n",
    "\n",
    "from ipywidgets import interact, interactive, fixed, interact_manual\n",
    "import ipywidgets as widgets\n",
    "\n",
    "import numpy as np\n",
    "import math\n",
    "from tqdm import tqdm\n",
    "import os\n",
    "\n",
    "import tempfile"
   ]
  },
  {
   "cell_type": "code",
   "execution_count": 11,
   "metadata": {
    "scrolled": false
   },
   "outputs": [
    {
     "name": "stdout",
     "output_type": "stream",
     "text": [
      "/home/lukas/Projects/TrussFab/src/system_simulation/seesaw3_build\n"
     ]
    }
   ],
   "source": [
    "%cd seesaw3_build/"
   ]
  },
  {
   "cell_type": "code",
   "execution_count": 28,
   "metadata": {},
   "outputs": [],
   "source": [
    "overrides = \"startTime=0,stopTime=10,stepSize=0.02,outputFormat=mat,variableFilter=revLeft.*\""
   ]
  },
  {
   "cell_type": "code",
   "execution_count": 5,
   "metadata": {},
   "outputs": [
    {
     "name": "stdout",
     "output_type": "stream",
     "text": [
      "CPU times: user 705 µs, sys: 7.61 ms, total: 8.31 ms\n",
      "Wall time: 26.6 ms\n"
     ]
    },
    {
     "data": {
      "text/plain": [
       "0"
      ]
     },
     "execution_count": 5,
     "metadata": {},
     "output_type": "execute_result"
    }
   ],
   "source": [
    "time subprocess.call([\"./seesaw3\", \"-override springDamperParallel1.c='10\"])"
   ]
  },
  {
   "cell_type": "code",
   "execution_count": 22,
   "metadata": {},
   "outputs": [
    {
     "data": {
      "text/plain": [
       "CompletedProcess(args='./seesaw3 -outputPath=. -override=startTime=0,stopTime=10,stepSize=0.2,outputFormat=mat,variableFilter=revLeft.*', returncode=0, stdout=b'LOG_SUCCESS       | info    | The initialization finished successfully without homotopy method.\\nLOG_SUCCESS       | info    | The simulation finished successfully.\\n', stderr=b'')"
      ]
     },
     "execution_count": 22,
     "metadata": {},
     "output_type": "execute_result"
    }
   ],
   "source": [
    "subprocess.run(\"./seesaw3 -outputPath={} -override={}\".format('.', overrides, 100), shell=True, capture_output=True)"
   ]
  },
  {
   "cell_type": "code",
   "execution_count": 23,
   "metadata": {},
   "outputs": [],
   "source": [
    "def getFreq(c=100):\n",
    "    with tempfile.TemporaryDirectory(dir='.') as tempdir:\n",
    "        subprocess.run(\"./seesaw3 -outputPath={} -override {},springDamperParallel1.c='{}'\".format(tempdir, overrides, c), check=True, shell=True)\n",
    "        d = DyMat.DyMatFile(tempdir + '/seesaw3_res.mat')\n",
    "    return d['revLeft.phi']\n",
    "\n",
    "def getFreqPlot(c=100):\n",
    "    return pd.DataFrame(getFreq(c)).plot(title=\"C={}\".format(c))"
   ]
  },
  {
   "cell_type": "code",
   "execution_count": 24,
   "metadata": {},
   "outputs": [],
   "source": [
    "def range_metric(array: np.array):\n",
    "    return array.ptp()"
   ]
  },
  {
   "cell_type": "code",
   "execution_count": 25,
   "metadata": {},
   "outputs": [
    {
     "name": "stdout",
     "output_type": "stream",
     "text": [
      "CPU times: user 68.7 ms, sys: 12.1 ms, total: 80.8 ms\n",
      "Wall time: 188 ms\n"
     ]
    },
    {
     "data": {
      "text/plain": [
       "array([0.        , 0.20699349, 0.98074964, 2.19795294, 3.3710424 ,\n",
       "       4.10657144, 4.1858856 , 3.59318983, 2.73981659, 1.88125847,\n",
       "       1.14243924, 0.66924463, 0.49170721, 0.37251106, 0.43385236,\n",
       "       0.82880089, 1.6550358 , 2.61361065, 3.49131079, 4.02189251,\n",
       "       3.93618554, 3.26810988, 2.23120403, 1.1800205 , 0.47385253,\n",
       "       0.45127098, 0.91854868, 1.5432153 , 2.28641216, 2.93454861,\n",
       "       3.21059005, 3.09544685, 2.75019373, 2.4039138 , 2.05279461,\n",
       "       1.71360792, 1.41595573, 1.60331712, 2.3364836 , 2.7501428 ,\n",
       "       2.19453405, 1.26617526, 0.76662296, 0.64641082, 0.8842344 ,\n",
       "       1.38135182, 1.9940553 , 2.4265757 , 2.30052249, 1.87670712,\n",
       "       2.00181237, 2.00181237])"
      ]
     },
     "execution_count": 25,
     "metadata": {},
     "output_type": "execute_result"
    }
   ],
   "source": [
    "time getFreq(10)"
   ]
  },
  {
   "cell_type": "code",
   "execution_count": 29,
   "metadata": {},
   "outputs": [
    {
     "data": {
      "application/vnd.jupyter.widget-view+json": {
       "model_id": "a245d42523484ee8bcb610b664116347",
       "version_major": 2,
       "version_minor": 0
      },
      "text/plain": [
       "interactive(children=(IntSlider(value=100, description='c', max=20000, step=100), Output()), _dom_classes=('wi…"
      ]
     },
     "metadata": {},
     "output_type": "display_data"
    },
    {
     "data": {
      "text/plain": [
       "<function __main__.getFreqPlot(c=100)>"
      ]
     },
     "execution_count": 29,
     "metadata": {},
     "output_type": "execute_result"
    }
   ],
   "source": [
    "interact(getFreqPlot, c=(0,20000,100))"
   ]
  },
  {
   "cell_type": "code",
   "execution_count": null,
   "metadata": {},
   "outputs": [],
   "source": [
    "time getFreq(100)"
   ]
  },
  {
   "cell_type": "code",
   "execution_count": null,
   "metadata": {},
   "outputs": [],
   "source": [
    "ranges = []\n",
    "\n",
    "for c in tqdm(range(0, 20000, 100)):\n",
    "    ranges.append(range_metric(getFreq(c)))\n",
    "    \n",
    "pd.DataFrame(ranges).plot()"
   ]
  },
  {
   "cell_type": "code",
   "execution_count": null,
   "metadata": {
    "scrolled": true
   },
   "outputs": [],
   "source": [
    "import time\n",
    "import concurrent.futures\n",
    "\n",
    "e = concurrent.futures.ThreadPoolExecutor(4)\n",
    "s = range(0, 20000, 100)\n",
    "calc = lambda c: range_metric(getFreq(c))\n",
    "\n",
    "res = [x for x in tqdm(e.map(calc, s))]"
   ]
  },
  {
   "cell_type": "code",
   "execution_count": null,
   "metadata": {},
   "outputs": [],
   "source": [
    "pd.DataFrame(res).plot()"
   ]
  }
 ],
 "metadata": {
  "kernelspec": {
   "display_name": "modelica",
   "language": "python",
   "name": "modelica"
  },
  "language_info": {
   "codemirror_mode": {
    "name": "ipython",
    "version": 3
   },
   "file_extension": ".py",
   "mimetype": "text/x-python",
   "name": "python",
   "nbconvert_exporter": "python",
   "pygments_lexer": "ipython3",
   "version": "3.7.5"
  }
 },
 "nbformat": 4,
 "nbformat_minor": 2
}
